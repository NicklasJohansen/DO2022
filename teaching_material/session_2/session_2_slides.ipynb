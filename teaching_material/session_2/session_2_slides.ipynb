{
 "cells": [
  {
   "cell_type": "markdown",
   "metadata": {
    "slideshow": {
     "slide_type": "slide"
    }
   },
   "source": [
    "# Session 2: Data Structuring 1\n",
    "\n",
    "*Nicklas Johansen*"
   ]
  },
  {
   "cell_type": "markdown",
   "metadata": {
    "slideshow": {
     "slide_type": "slide"
    }
   },
   "source": [
    "## Agenda\n",
    "\n",
    "In this session, we will work with `pandas` and how to structure your data.\n",
    "\n",
    "- Tidy Data\n",
    "- numpy & pandas modules\n",
    "- pandas series\n",
    "- pandas DataFrames\n",
    "- selecting data\n",
    "- indexing & renaming\n",
    "\n",
    "\n",
    "NB\n",
    "- Download this file to your computer\n",
    "- Rename the file\n",
    "- Run code together with Nicklas"
   ]
  },
  {
   "cell_type": "markdown",
   "metadata": {
    "slideshow": {
     "slide_type": "slide"
    }
   },
   "source": [
    "## Why We Structure Data\n",
    "\n",
    "### Motivation\n",
    "*Why do we want to learn data structuring?*\n",
    "\n",
    "- Data rarely comes in the form of our model. We need to 'wrangle' our data.\n",
    "- Someone has to do this\n",
    "- You need to understand how data was prepared to avoid misconclusions\n",
    "\n",
    "### Tidy Data\n",
    "\n",
    "Good discussion [here](https://cran.r-project.org/web/packages/tidyr/vignettes/tidy-data.html). The fundamentals:\n",
    "- Every column is a variable.\n",
    "- Every row is an observation.\n",
    "- Every cell is a single value.\n",
    "\n",
    "<center><img src='https://raw.githubusercontent.com/abjer/sds2017/master/slides/figures/tidy.png'></center>"
   ]
  },
  {
   "cell_type": "markdown",
   "metadata": {
    "slideshow": {
     "slide_type": "slide"
    }
   },
   "source": [
    "# Numpy and Pandas"
   ]
  },
  {
   "cell_type": "code",
   "execution_count": 1,
   "metadata": {
    "slideshow": {
     "slide_type": "skip"
    }
   },
   "outputs": [],
   "source": [
    "# Loading packages\n",
    "import numpy as np\n",
    "import pandas as pd"
   ]
  },
  {
   "cell_type": "markdown",
   "metadata": {
    "slideshow": {
     "slide_type": "slide"
    }
   },
   "source": [
    "## Numpy Overview\n",
    "*What is the [`numpy`](http://www.numpy.org/) module?*\n",
    "\n",
    "`numpy` is a Python module / library / package\n",
    "- fast and versatile for manipulating arrays\n",
    "- linear algebra tools available\n",
    "- used in some machine learning and statistics packages\n",
    "\n",
    "Example of creating an array similar to a 2x2 matrix:"
   ]
  },
  {
   "cell_type": "code",
   "execution_count": 2,
   "metadata": {
    "slideshow": {
     "slide_type": "-"
    }
   },
   "outputs": [
    {
     "data": {
      "text/plain": [
       "array([[1, 2],\n",
       "       [3, 4]])"
      ]
     },
     "execution_count": 2,
     "metadata": {},
     "output_type": "execute_result"
    }
   ],
   "source": [
    "table = [[1,2],[3,4]]\n",
    "arr = np.array(table)\n",
    "arr"
   ]
  },
  {
   "cell_type": "markdown",
   "metadata": {
    "slideshow": {
     "slide_type": "slide"
    }
   },
   "source": [
    "## Pandas Motivation\n",
    "*Why use Pandas?*\n",
    "\n",
    "It is built on numpy:\n",
    "- Simplicity: Pandas is built with Python's simplicity \n",
    "- Powerful and fast tools for manipulating data from numpy\n",
    "\n",
    "Improves on numpy:\n",
    "- Clarity, flexibility by using labels (keys)\n",
    "- Introduces lots of new, useful tools for data analysis (more on this)\n",
    "\n",
    "Note: Much more similar to common software for data manipulation like, say, Stata\n",
    "\n",
    "\n",
    "#### Pandas Popularity\n",
    "\n",
    "<center><img src='https://www.sqlshack.com/wp-content/uploads/2020/08/pandas-in-python-popularity-from-stack-overflow.png' alt=\"Drawing\" style=\"width: 500px;\"/></center>\n",
    "\n"
   ]
  },
  {
   "cell_type": "markdown",
   "metadata": {
    "slideshow": {
     "slide_type": "slide"
    }
   },
   "source": [
    "# DataFrames and Series"
   ]
  },
  {
   "cell_type": "code",
   "execution_count": 3,
   "metadata": {
    "slideshow": {
     "slide_type": "-"
    }
   },
   "outputs": [],
   "source": [
    "# Loading packages\n",
    "import matplotlib.pyplot as plt\n",
    "import numpy as np\n",
    "import pandas as pd\n",
    "import requests\n",
    "import seaborn as sns"
   ]
  },
  {
   "cell_type": "markdown",
   "metadata": {
    "slideshow": {
     "slide_type": "slide"
    }
   },
   "source": [
    "## Pandas Data Types\n",
    "*How do we work with data in Pandas?*\n",
    "\n",
    "- We use two fundamental data stuctures: \n",
    "  - ``Series``, and\n",
    "  - ``DataFrame``."
   ]
  },
  {
   "cell_type": "markdown",
   "metadata": {
    "slideshow": {
     "slide_type": "slide"
    }
   },
   "source": [
    "## Pandas Series (1:5)\n",
    "*What is a `Series`?*\n",
    "- A vector/list with labels for each entry. Example:"
   ]
  },
  {
   "cell_type": "code",
   "execution_count": 4,
   "metadata": {
    "slideshow": {
     "slide_type": "-"
    }
   },
   "outputs": [
    {
     "data": {
      "text/plain": [
       "0       1\n",
       "1     1.2\n",
       "2     abc\n",
       "3    True\n",
       "dtype: object"
      ]
     },
     "execution_count": 4,
     "metadata": {},
     "output_type": "execute_result"
    }
   ],
   "source": [
    "L = [1, 1.2, 'abc', True]\n",
    "\n",
    "my_series = pd.Series(L)\n",
    "my_series"
   ]
  },
  {
   "cell_type": "markdown",
   "metadata": {
    "slideshow": {
     "slide_type": "slide"
    }
   },
   "source": [
    "## Pandas Series (2:5)\n",
    "*What are the components in a Series?* \n",
    "\n",
    "Series generally consists of three components:\n",
    "- `index`: label for each observation\n",
    "- `values`: observation data\n",
    "- `dtype`: the format of the series (`object` means any data type is allowed)\n",
    "  - examples are fundamental datatypes (`float`, `int`, `bool`)  \n",
    "      - in terms of precision: `float`>`int`>`bool`\n",
    "      - this comes at a cost in the form of speed"
   ]
  },
  {
   "cell_type": "markdown",
   "metadata": {
    "slideshow": {
     "slide_type": "slide"
    }
   },
   "source": [
    "## Pandas Series (3:5)\n",
    "*How do we set custom index?* \n",
    "\n",
    "Indices need not have a sequential structure. To see this, consider the following example"
   ]
  },
  {
   "cell_type": "code",
   "execution_count": 2,
   "metadata": {},
   "outputs": [
    {
     "data": {
      "text/plain": [
       "range(0, 3)"
      ]
     },
     "execution_count": 2,
     "metadata": {},
     "output_type": "execute_result"
    }
   ],
   "source": [
    "num_data = range(0,3) # Generate data\n",
    "num_data"
   ]
  },
  {
   "cell_type": "code",
   "execution_count": 3,
   "metadata": {
    "slideshow": {
     "slide_type": "-"
    }
   },
   "outputs": [
    {
     "data": {
      "text/plain": [
       "['B', 'C', 'A']"
      ]
     },
     "execution_count": 3,
     "metadata": {},
     "output_type": "execute_result"
    }
   ],
   "source": [
    "indices = ['B', 'C', 'A'] # Generate index names\n",
    "indices"
   ]
  },
  {
   "cell_type": "code",
   "execution_count": 4,
   "metadata": {
    "slideshow": {
     "slide_type": "-"
    }
   },
   "outputs": [
    {
     "data": {
      "text/plain": [
       "B    0\n",
       "C    1\n",
       "A    2\n",
       "dtype: int64"
      ]
     },
     "execution_count": 4,
     "metadata": {},
     "output_type": "execute_result"
    }
   ],
   "source": [
    "# Create a pandas series from the two\n",
    "my_series2 = pd.Series(data=num_data, index=indices) \n",
    "my_series2"
   ]
  },
  {
   "cell_type": "markdown",
   "metadata": {
    "slideshow": {
     "slide_type": "slide"
    }
   },
   "source": [
    "## Pandas Series (4:5)\n",
    "*What data structure does the pandas series remind us of?*\n",
    "\n",
    "A mix of Python list and dictionary. Consider the following simple transformation:"
   ]
  },
  {
   "cell_type": "markdown",
   "metadata": {
    "collapsed": true,
    "slideshow": {
     "slide_type": "fragment"
    }
   },
   "source": [
    "A mix of Python list and dictionary. Consider the following simple transformation:"
   ]
  },
  {
   "cell_type": "code",
   "execution_count": 7,
   "metadata": {
    "scrolled": true,
    "slideshow": {
     "slide_type": "-"
    }
   },
   "outputs": [
    {
     "data": {
      "text/plain": [
       "{0: 1, 1: 1.2, 2: 'abc', 3: True}"
      ]
     },
     "execution_count": 7,
     "metadata": {},
     "output_type": "execute_result"
    }
   ],
   "source": [
    "my_series.to_dict()"
   ]
  },
  {
   "cell_type": "markdown",
   "metadata": {
    "collapsed": true,
    "slideshow": {
     "slide_type": "fragment"
    }
   },
   "source": [
    "*Can we also convert a dictionary to a series?*\n",
    "- Yes, we just put into the Series (class) constructor. Example:"
   ]
  },
  {
   "cell_type": "code",
   "execution_count": 5,
   "metadata": {
    "slideshow": {
     "slide_type": "-"
    }
   },
   "outputs": [
    {
     "data": {
      "text/plain": [
       "{'yesterday': 0, 'today': 1, 'tomorrow': 3}"
      ]
     },
     "execution_count": 5,
     "metadata": {},
     "output_type": "execute_result"
    }
   ],
   "source": [
    "d = {'yesterday': 0, 'today': 1, 'tomorrow':3} # Create some dictionary\n",
    "d"
   ]
  },
  {
   "cell_type": "code",
   "execution_count": 6,
   "metadata": {},
   "outputs": [
    {
     "data": {
      "text/plain": [
       "yesterday    0\n",
       "today        1\n",
       "tomorrow     3\n",
       "dtype: int64"
      ]
     },
     "execution_count": 6,
     "metadata": {},
     "output_type": "execute_result"
    }
   ],
   "source": [
    "my_series3 = pd.Series(d) # Use the constructor\n",
    "my_series3"
   ]
  },
  {
   "cell_type": "markdown",
   "metadata": {
    "slideshow": {
     "slide_type": "slide"
    }
   },
   "source": [
    "## Pandas Series (5:5)\n",
    "*How is the series different from a dict?*\n",
    "- An important distinction: Series indices are NOT unique! Example:"
   ]
  },
  {
   "cell_type": "code",
   "execution_count": 8,
   "metadata": {
    "slideshow": {
     "slide_type": "-"
    }
   },
   "outputs": [
    {
     "data": {
      "text/plain": [
       "A    0\n",
       "A    1\n",
       "A    2\n",
       "dtype: int64"
      ]
     },
     "execution_count": 8,
     "metadata": {},
     "output_type": "execute_result"
    }
   ],
   "source": [
    "s = pd.Series(range(3), index=['A','A', 'A']) # Create series with same indices\n",
    "s"
   ]
  },
  {
   "cell_type": "code",
   "execution_count": 9,
   "metadata": {},
   "outputs": [
    {
     "name": "stdout",
     "output_type": "stream",
     "text": [
      "[False  True  True]\n"
     ]
    }
   ],
   "source": [
    "print(s.index.duplicated()) # Check duplicates\n"
   ]
  },
  {
   "cell_type": "code",
   "execution_count": 10,
   "metadata": {},
   "outputs": [
    {
     "name": "stdout",
     "output_type": "stream",
     "text": [
      "{'A': 2}\n"
     ]
    }
   ],
   "source": [
    "print(s.to_dict()) # So translating to a dict gives..."
   ]
  },
  {
   "cell_type": "markdown",
   "metadata": {
    "slideshow": {
     "slide_type": "fragment"
    }
   },
   "source": [
    "Series are both key and index  based (i.e. sequential).\n",
    "- Remember that unlike, say, lists, dictionaries are not sequential!"
   ]
  },
  {
   "cell_type": "markdown",
   "metadata": {
    "slideshow": {
     "slide_type": "slide"
    }
   },
   "source": [
    "## Pandas Data Frames (1:4)\n",
    "\n",
    "*OK, so now we know what a series is. What is a `DataFrame` then?*\n",
    "- A 2d-array (matrix) with labelled columns and rows (which are called indices). Example:"
   ]
  },
  {
   "cell_type": "code",
   "execution_count": 11,
   "metadata": {
    "scrolled": true
   },
   "outputs": [
    {
     "data": {
      "text/html": [
       "<div>\n",
       "<style scoped>\n",
       "    .dataframe tbody tr th:only-of-type {\n",
       "        vertical-align: middle;\n",
       "    }\n",
       "\n",
       "    .dataframe tbody tr th {\n",
       "        vertical-align: top;\n",
       "    }\n",
       "\n",
       "    .dataframe thead th {\n",
       "        text-align: right;\n",
       "    }\n",
       "</style>\n",
       "<table border=\"1\" class=\"dataframe\">\n",
       "  <thead>\n",
       "    <tr style=\"text-align: right;\">\n",
       "      <th></th>\n",
       "      <th>A</th>\n",
       "      <th>B</th>\n",
       "    </tr>\n",
       "  </thead>\n",
       "  <tbody>\n",
       "    <tr>\n",
       "      <th>0</th>\n",
       "      <td>1</td>\n",
       "      <td>2</td>\n",
       "    </tr>\n",
       "    <tr>\n",
       "      <th>1</th>\n",
       "      <td>3</td>\n",
       "      <td>4</td>\n",
       "    </tr>\n",
       "  </tbody>\n",
       "</table>\n",
       "</div>"
      ],
      "text/plain": [
       "   A  B\n",
       "0  1  2\n",
       "1  3  4"
      ]
     },
     "execution_count": 11,
     "metadata": {},
     "output_type": "execute_result"
    }
   ],
   "source": [
    "df = pd.DataFrame(data=[[1,2],[3,4]],columns=['A', 'B'])\n",
    "df"
   ]
  },
  {
   "cell_type": "markdown",
   "metadata": {
    "slideshow": {
     "slide_type": "slide"
    }
   },
   "source": [
    "## Pandas Data Frames (2:4)\n",
    " *How can we really think about this?*\n",
    "\n",
    "There are at least two simple ways of seeing the pandas DataFrame:\n",
    "1. A numpy array with some additional stuff.\n",
    "2. A set of series that have been merged horizontally\n",
    "    - Note that columns can have different datatypes!\n",
    "    \n",
    "Most functions from `numpy` can be applied directly to Pandas. We can convert a DataFrame to a `numpy` array with `values` attribute."
   ]
  },
  {
   "cell_type": "code",
   "execution_count": 11,
   "metadata": {
    "slideshow": {
     "slide_type": "-"
    }
   },
   "outputs": [
    {
     "data": {
      "text/plain": [
       "array([[1, 2],\n",
       "       [3, 4]], dtype=int64)"
      ]
     },
     "execution_count": 11,
     "metadata": {},
     "output_type": "execute_result"
    }
   ],
   "source": [
    "df.values"
   ]
  },
  {
   "cell_type": "markdown",
   "metadata": {
    "slideshow": {
     "slide_type": "fragment"
    }
   },
   "source": [
    "*To note*: In Python we can describe it as a *list of lists* or sometimes a *dict of dicts*."
   ]
  },
  {
   "cell_type": "code",
   "execution_count": 12,
   "metadata": {
    "slideshow": {
     "slide_type": "-"
    }
   },
   "outputs": [
    {
     "data": {
      "text/plain": [
       "[[1, 2], [3, 4]]"
      ]
     },
     "execution_count": 12,
     "metadata": {},
     "output_type": "execute_result"
    }
   ],
   "source": [
    "df.values.tolist()"
   ]
  },
  {
   "cell_type": "markdown",
   "metadata": {
    "slideshow": {
     "slide_type": "slide"
    }
   },
   "source": [
    "## Pandas Data Frames (3:4)\n",
    "*How can larger pandas dataframes be built?*\n",
    "- Similar to Series, DataFrames can be built from dictionaries.\n",
    "- An important difference: When it comes to creating distinct columns, DataFrames require that each value in the -dictionary is also a dictionary. Example:"
   ]
  },
  {
   "cell_type": "code",
   "execution_count": 13,
   "metadata": {
    "slideshow": {
     "slide_type": "-"
    }
   },
   "outputs": [
    {
     "data": {
      "text/html": [
       "<div>\n",
       "<style scoped>\n",
       "    .dataframe tbody tr th:only-of-type {\n",
       "        vertical-align: middle;\n",
       "    }\n",
       "\n",
       "    .dataframe tbody tr th {\n",
       "        vertical-align: top;\n",
       "    }\n",
       "\n",
       "    .dataframe thead th {\n",
       "        text-align: right;\n",
       "    }\n",
       "</style>\n",
       "<table border=\"1\" class=\"dataframe\">\n",
       "  <thead>\n",
       "    <tr style=\"text-align: right;\">\n",
       "      <th></th>\n",
       "      <th>january</th>\n",
       "      <th>february</th>\n",
       "      <th>march</th>\n",
       "    </tr>\n",
       "  </thead>\n",
       "  <tbody>\n",
       "    <tr>\n",
       "      <th>1st</th>\n",
       "      <td>0</td>\n",
       "      <td>-3</td>\n",
       "      <td>3</td>\n",
       "    </tr>\n",
       "    <tr>\n",
       "      <th>2nd</th>\n",
       "      <td>1</td>\n",
       "      <td>-1</td>\n",
       "      <td>5</td>\n",
       "    </tr>\n",
       "    <tr>\n",
       "      <th>3rd</th>\n",
       "      <td>3</td>\n",
       "      <td>-2</td>\n",
       "      <td>4</td>\n",
       "    </tr>\n",
       "  </tbody>\n",
       "</table>\n",
       "</div>"
      ],
      "text/plain": [
       "     january  february  march\n",
       "1st        0        -3      3\n",
       "2nd        1        -1      5\n",
       "3rd        3        -2      4"
      ]
     },
     "execution_count": 13,
     "metadata": {},
     "output_type": "execute_result"
    }
   ],
   "source": [
    "djan = {'1st': 0, '2nd': 1, '3rd':3} # Create some dictionary for january\n",
    "dfeb = {'1st': -3, '2nd': -1, '3rd':-2} # Create some dictionary for february\n",
    "dmar = {'1st': 3, '2nd': 5, '3rd':4} # Create some dictionary for march\n",
    "\n",
    "d = {'january': djan, 'february': dfeb, 'march': dmar} # Create dictionary of dictionaries\n",
    "my_df1 = pd.DataFrame(d) # Use the constructor\n",
    "my_df1"
   ]
  },
  {
   "cell_type": "markdown",
   "metadata": {
    "slideshow": {
     "slide_type": "slide"
    }
   },
   "source": [
    "## Pandas Data Frames (4:4)\n",
    "\n",
    "*What happens if keys are not the same?*\n",
    "- No big deal..."
   ]
  },
  {
   "cell_type": "code",
   "execution_count": 14,
   "metadata": {
    "slideshow": {
     "slide_type": "-"
    }
   },
   "outputs": [
    {
     "data": {
      "text/html": [
       "<div>\n",
       "<style scoped>\n",
       "    .dataframe tbody tr th:only-of-type {\n",
       "        vertical-align: middle;\n",
       "    }\n",
       "\n",
       "    .dataframe tbody tr th {\n",
       "        vertical-align: top;\n",
       "    }\n",
       "\n",
       "    .dataframe thead th {\n",
       "        text-align: right;\n",
       "    }\n",
       "</style>\n",
       "<table border=\"1\" class=\"dataframe\">\n",
       "  <thead>\n",
       "    <tr style=\"text-align: right;\">\n",
       "      <th></th>\n",
       "      <th>january</th>\n",
       "      <th>february</th>\n",
       "      <th>march</th>\n",
       "    </tr>\n",
       "  </thead>\n",
       "  <tbody>\n",
       "    <tr>\n",
       "      <th>1st</th>\n",
       "      <td>0.0</td>\n",
       "      <td>-3.0</td>\n",
       "      <td>3.0</td>\n",
       "    </tr>\n",
       "    <tr>\n",
       "      <th>2nd</th>\n",
       "      <td>1.0</td>\n",
       "      <td>-1.0</td>\n",
       "      <td>5.0</td>\n",
       "    </tr>\n",
       "    <tr>\n",
       "      <th>3rd</th>\n",
       "      <td>3.0</td>\n",
       "      <td>-2.0</td>\n",
       "      <td>NaN</td>\n",
       "    </tr>\n",
       "    <tr>\n",
       "      <th>4th</th>\n",
       "      <td>NaN</td>\n",
       "      <td>NaN</td>\n",
       "      <td>4.0</td>\n",
       "    </tr>\n",
       "  </tbody>\n",
       "</table>\n",
       "</div>"
      ],
      "text/plain": [
       "     january  february  march\n",
       "1st      0.0      -3.0    3.0\n",
       "2nd      1.0      -1.0    5.0\n",
       "3rd      3.0      -2.0    NaN\n",
       "4th      NaN       NaN    4.0"
      ]
     },
     "execution_count": 14,
     "metadata": {},
     "output_type": "execute_result"
    }
   ],
   "source": [
    "djan = {'1st': 0, '2nd': 1, '3rd':3} # Create some dictionary for january\n",
    "dfeb = {'1st': -3, '2nd': -1, '3rd':-2} # Create some dictionary for february\n",
    "dmar = {'1st': 3, '2nd': 5, '4th':4} # Create some dictionary for march\n",
    "\n",
    "d = {'january': djan, 'february': dfeb, 'march': dmar} # Create dictionary of dictionaries\n",
    "my_df2 = pd.DataFrame(d) # Use the constructor\n",
    "my_df2"
   ]
  },
  {
   "cell_type": "markdown",
   "metadata": {
    "slideshow": {
     "slide_type": "slide"
    }
   },
   "source": [
    "## Series vs DataFrames (1:2)\n",
    "*How are Series related to DataFrames?*\n",
    "- Putting it simple: Every column is a series. Example, access as key (recommended):"
   ]
  },
  {
   "cell_type": "code",
   "execution_count": 15,
   "metadata": {
    "slideshow": {
     "slide_type": "-"
    }
   },
   "outputs": [
    {
     "name": "stdout",
     "output_type": "stream",
     "text": [
      "0    2\n",
      "1    4\n",
      "Name: B, dtype: int64\n"
     ]
    }
   ],
   "source": [
    "print(df['B'])"
   ]
  },
  {
   "cell_type": "markdown",
   "metadata": {
    "slideshow": {
     "slide_type": "fragment"
    }
   },
   "source": [
    "Another option is access as object method... smart, but dangerous! Sometimes it works..."
   ]
  },
  {
   "cell_type": "code",
   "execution_count": 16,
   "metadata": {
    "slideshow": {
     "slide_type": "-"
    }
   },
   "outputs": [
    {
     "name": "stdout",
     "output_type": "stream",
     "text": [
      "0    2\n",
      "1    4\n",
      "Name: B, dtype: int64\n"
     ]
    }
   ],
   "source": [
    "print(df.B)"
   ]
  },
  {
   "cell_type": "markdown",
   "metadata": {
    "slideshow": {
     "slide_type": "slide"
    }
   },
   "source": [
    "## Series vs DataFrames (2:2)\n",
    "*But when wouldn't this work?*\n",
    "- To illustrate, add one more column:"
   ]
  },
  {
   "cell_type": "code",
   "execution_count": 17,
   "metadata": {
    "slideshow": {
     "slide_type": "-"
    }
   },
   "outputs": [
    {
     "name": "stdout",
     "output_type": "stream",
     "text": [
      "   A  B  count\n",
      "0  1  2      5\n",
      "1  3  4      5\n"
     ]
    }
   ],
   "source": [
    "df['count'] =  5 # adding new column to df\n",
    "print(df)"
   ]
  },
  {
   "cell_type": "markdown",
   "metadata": {
    "slideshow": {
     "slide_type": "fragment"
    }
   },
   "source": [
    "Now print this and see!"
   ]
  },
  {
   "cell_type": "code",
   "execution_count": 18,
   "metadata": {
    "scrolled": true,
    "slideshow": {
     "slide_type": "-"
    }
   },
   "outputs": [
    {
     "name": "stdout",
     "output_type": "stream",
     "text": [
      "<bound method DataFrame.count of    A  B  count\n",
      "0  1  2      5\n",
      "1  3  4      5>\n"
     ]
    }
   ],
   "source": [
    "print(df.count)"
   ]
  },
  {
   "cell_type": "markdown",
   "metadata": {
    "slideshow": {
     "slide_type": "fragment"
    }
   },
   "source": [
    "Clearly, the key-based option is more robust as variables named same as methods, e.g. `count`, cannot be accesed."
   ]
  },
  {
   "cell_type": "markdown",
   "metadata": {
    "slideshow": {
     "slide_type": "slide"
    }
   },
   "source": [
    "## Converting Data Types"
   ]
  },
  {
   "cell_type": "markdown",
   "metadata": {
    "slideshow": {
     "slide_type": "-"
    }
   },
   "source": [
    "The data type of a series can be converted with the **astype** method. Some examples:"
   ]
  },
  {
   "cell_type": "code",
   "execution_count": 19,
   "metadata": {},
   "outputs": [
    {
     "name": "stdout",
     "output_type": "stream",
     "text": [
      "yesterday    0\n",
      "today        1\n",
      "tomorrow     3\n",
      "dtype: int64\n",
      "\n",
      "yesterday    0.0\n",
      "today        1.0\n",
      "tomorrow     3.0\n",
      "dtype: float64\n",
      "\n",
      "yesterday    0\n",
      "today        1\n",
      "tomorrow     3\n",
      "dtype: object\n"
     ]
    }
   ],
   "source": [
    "print(my_series3)\n",
    "print()\n",
    "print(my_series3.astype(np.float))\n",
    "print()\n",
    "print(my_series3.astype(np.str))"
   ]
  },
  {
   "cell_type": "markdown",
   "metadata": {
    "slideshow": {
     "slide_type": "slide"
    }
   },
   "source": [
    "## Indices and Column Names\n",
    "*Why don't we just use numpy arrays and matrices?*\n",
    "\n",
    "- Inspection of data is quicker\n",
    "    - What was it that column 18 represented?\n",
    "- Keep track of rows after deletion\n",
    "    - Again.... What was it that column 18 represented!?\n",
    "- Indices may contain fundamentally different data structures \n",
    "    - e.g. time series (more about this later)\n",
    "    - Other datatypes (spatial data $\\rightarrow$ advanced course)\n",
    "- Facilitates complex operation (next session):\n",
    "    - Merging datasets\n",
    "    - Split-apply-combine (operations on subsets of data)\n",
    "    - Method chaining (multiple operations in sequence)"
   ]
  },
  {
   "cell_type": "markdown",
   "metadata": {
    "slideshow": {
     "slide_type": "slide"
    }
   },
   "source": [
    "## Viewing Series and Dataframes\n",
    "*How can we view the contents in our dataset?*\n",
    "- We can use `print` on our dataset\n",
    "- We can visualize patterns by plotting"
   ]
  },
  {
   "cell_type": "markdown",
   "metadata": {
    "slideshow": {
     "slide_type": "slide"
    }
   },
   "source": [
    "## The Head and Tail\n",
    "*But what if we have a large data set with many rows?*\n",
    "- Let's load the 'titanic' data set that comes with the *seaborn* library:"
   ]
  },
  {
   "cell_type": "code",
   "execution_count": 20,
   "metadata": {
    "scrolled": false,
    "slideshow": {
     "slide_type": "-"
    }
   },
   "outputs": [],
   "source": [
    "import seaborn as sns\n",
    "titanic = sns.load_dataset('titanic')"
   ]
  },
  {
   "cell_type": "markdown",
   "metadata": {
    "slideshow": {
     "slide_type": "fragment"
    }
   },
   "source": [
    "We now select the *first* 3 rows in a the with the `head` method."
   ]
  },
  {
   "cell_type": "code",
   "execution_count": 21,
   "metadata": {
    "scrolled": true,
    "slideshow": {
     "slide_type": "-"
    }
   },
   "outputs": [
    {
     "data": {
      "text/html": [
       "<div>\n",
       "<style scoped>\n",
       "    .dataframe tbody tr th:only-of-type {\n",
       "        vertical-align: middle;\n",
       "    }\n",
       "\n",
       "    .dataframe tbody tr th {\n",
       "        vertical-align: top;\n",
       "    }\n",
       "\n",
       "    .dataframe thead th {\n",
       "        text-align: right;\n",
       "    }\n",
       "</style>\n",
       "<table border=\"1\" class=\"dataframe\">\n",
       "  <thead>\n",
       "    <tr style=\"text-align: right;\">\n",
       "      <th></th>\n",
       "      <th>survived</th>\n",
       "      <th>pclass</th>\n",
       "      <th>sex</th>\n",
       "      <th>age</th>\n",
       "      <th>sibsp</th>\n",
       "      <th>parch</th>\n",
       "      <th>fare</th>\n",
       "      <th>embarked</th>\n",
       "      <th>class</th>\n",
       "      <th>who</th>\n",
       "      <th>adult_male</th>\n",
       "      <th>deck</th>\n",
       "      <th>embark_town</th>\n",
       "      <th>alive</th>\n",
       "      <th>alone</th>\n",
       "    </tr>\n",
       "  </thead>\n",
       "  <tbody>\n",
       "    <tr>\n",
       "      <th>0</th>\n",
       "      <td>0</td>\n",
       "      <td>3</td>\n",
       "      <td>male</td>\n",
       "      <td>22.0</td>\n",
       "      <td>1</td>\n",
       "      <td>0</td>\n",
       "      <td>7.2500</td>\n",
       "      <td>S</td>\n",
       "      <td>Third</td>\n",
       "      <td>man</td>\n",
       "      <td>True</td>\n",
       "      <td>NaN</td>\n",
       "      <td>Southampton</td>\n",
       "      <td>no</td>\n",
       "      <td>False</td>\n",
       "    </tr>\n",
       "    <tr>\n",
       "      <th>1</th>\n",
       "      <td>1</td>\n",
       "      <td>1</td>\n",
       "      <td>female</td>\n",
       "      <td>38.0</td>\n",
       "      <td>1</td>\n",
       "      <td>0</td>\n",
       "      <td>71.2833</td>\n",
       "      <td>C</td>\n",
       "      <td>First</td>\n",
       "      <td>woman</td>\n",
       "      <td>False</td>\n",
       "      <td>C</td>\n",
       "      <td>Cherbourg</td>\n",
       "      <td>yes</td>\n",
       "      <td>False</td>\n",
       "    </tr>\n",
       "    <tr>\n",
       "      <th>2</th>\n",
       "      <td>1</td>\n",
       "      <td>3</td>\n",
       "      <td>female</td>\n",
       "      <td>26.0</td>\n",
       "      <td>0</td>\n",
       "      <td>0</td>\n",
       "      <td>7.9250</td>\n",
       "      <td>S</td>\n",
       "      <td>Third</td>\n",
       "      <td>woman</td>\n",
       "      <td>False</td>\n",
       "      <td>NaN</td>\n",
       "      <td>Southampton</td>\n",
       "      <td>yes</td>\n",
       "      <td>True</td>\n",
       "    </tr>\n",
       "  </tbody>\n",
       "</table>\n",
       "</div>"
      ],
      "text/plain": [
       "   survived  pclass     sex   age  sibsp  parch     fare embarked  class  \\\n",
       "0         0       3    male  22.0      1      0   7.2500        S  Third   \n",
       "1         1       1  female  38.0      1      0  71.2833        C  First   \n",
       "2         1       3  female  26.0      0      0   7.9250        S  Third   \n",
       "\n",
       "     who  adult_male deck  embark_town alive  alone  \n",
       "0    man        True  NaN  Southampton    no  False  \n",
       "1  woman       False    C    Cherbourg   yes  False  \n",
       "2  woman       False  NaN  Southampton   yes   True  "
      ]
     },
     "execution_count": 21,
     "metadata": {},
     "output_type": "execute_result"
    }
   ],
   "source": [
    "titanic.head(3)"
   ]
  },
  {
   "cell_type": "markdown",
   "metadata": {
    "slideshow": {
     "slide_type": "fragment"
    }
   },
   "source": [
    "The `tail` method selects the last observations in a DataFrame. "
   ]
  },
  {
   "cell_type": "markdown",
   "metadata": {
    "slideshow": {
     "slide_type": "slide"
    }
   },
   "source": [
    "## Row and Column Selection (1:3)\n",
    "*How can we select certain rows in a DataFrame using **keys**?*\n",
    "\n",
    "With the `loc` attribute. Example:"
   ]
  },
  {
   "cell_type": "code",
   "execution_count": 22,
   "metadata": {
    "scrolled": true,
    "slideshow": {
     "slide_type": "-"
    }
   },
   "outputs": [
    {
     "name": "stdout",
     "output_type": "stream",
     "text": [
      "   survived   age     sex\n",
      "0         0  22.0    male\n",
      "1         1  38.0  female\n",
      "2         1  26.0  female\n"
     ]
    }
   ],
   "source": [
    "print(titanic.loc[range(3),['survived', 'age', 'sex']])"
   ]
  },
  {
   "cell_type": "markdown",
   "metadata": {
    "slideshow": {
     "slide_type": "slide"
    }
   },
   "source": [
    "## Row and Column Selection (2:3)\n",
    "*How can we select certain rows in a DataFrame using **index integers**?* \n",
    "\n",
    "The `iloc` method selects rows and columns for provided index integers. "
   ]
  },
  {
   "cell_type": "code",
   "execution_count": 23,
   "metadata": {
    "slideshow": {
     "slide_type": "-"
    }
   },
   "outputs": [
    {
     "name": "stdout",
     "output_type": "stream",
     "text": [
      "    survived  pclass     sex   age  sibsp\n",
      "10         1       3  female   4.0      1\n",
      "11         1       1  female  58.0      0\n",
      "12         0       3    male  20.0      0\n",
      "13         0       3    male  39.0      1\n",
      "14         0       3  female  14.0      0\n"
     ]
    }
   ],
   "source": [
    "print(titanic.iloc[10:15,:5])"
   ]
  },
  {
   "cell_type": "markdown",
   "metadata": {
    "slideshow": {
     "slide_type": "slide"
    }
   },
   "source": [
    "## Row and Column Selection (3:3)\n",
    "*Other things to be aware of?* \n",
    "\n",
    "We can select rows for all columns by not specfifying columns (or specifying `:`). I.e:"
   ]
  },
  {
   "cell_type": "code",
   "execution_count": 24,
   "metadata": {
    "slideshow": {
     "slide_type": "-"
    }
   },
   "outputs": [
    {
     "data": {
      "text/html": [
       "<div>\n",
       "<style scoped>\n",
       "    .dataframe tbody tr th:only-of-type {\n",
       "        vertical-align: middle;\n",
       "    }\n",
       "\n",
       "    .dataframe tbody tr th {\n",
       "        vertical-align: top;\n",
       "    }\n",
       "\n",
       "    .dataframe thead th {\n",
       "        text-align: right;\n",
       "    }\n",
       "</style>\n",
       "<table border=\"1\" class=\"dataframe\">\n",
       "  <thead>\n",
       "    <tr style=\"text-align: right;\">\n",
       "      <th></th>\n",
       "      <th>survived</th>\n",
       "      <th>pclass</th>\n",
       "      <th>sex</th>\n",
       "      <th>age</th>\n",
       "      <th>sibsp</th>\n",
       "      <th>parch</th>\n",
       "      <th>fare</th>\n",
       "      <th>embarked</th>\n",
       "      <th>class</th>\n",
       "      <th>who</th>\n",
       "      <th>adult_male</th>\n",
       "      <th>deck</th>\n",
       "      <th>embark_town</th>\n",
       "      <th>alive</th>\n",
       "      <th>alone</th>\n",
       "    </tr>\n",
       "  </thead>\n",
       "  <tbody>\n",
       "    <tr>\n",
       "      <th>0</th>\n",
       "      <td>0</td>\n",
       "      <td>3</td>\n",
       "      <td>male</td>\n",
       "      <td>22.0</td>\n",
       "      <td>1</td>\n",
       "      <td>0</td>\n",
       "      <td>7.2500</td>\n",
       "      <td>S</td>\n",
       "      <td>Third</td>\n",
       "      <td>man</td>\n",
       "      <td>True</td>\n",
       "      <td>NaN</td>\n",
       "      <td>Southampton</td>\n",
       "      <td>no</td>\n",
       "      <td>False</td>\n",
       "    </tr>\n",
       "    <tr>\n",
       "      <th>1</th>\n",
       "      <td>1</td>\n",
       "      <td>1</td>\n",
       "      <td>female</td>\n",
       "      <td>38.0</td>\n",
       "      <td>1</td>\n",
       "      <td>0</td>\n",
       "      <td>71.2833</td>\n",
       "      <td>C</td>\n",
       "      <td>First</td>\n",
       "      <td>woman</td>\n",
       "      <td>False</td>\n",
       "      <td>C</td>\n",
       "      <td>Cherbourg</td>\n",
       "      <td>yes</td>\n",
       "      <td>False</td>\n",
       "    </tr>\n",
       "    <tr>\n",
       "      <th>2</th>\n",
       "      <td>1</td>\n",
       "      <td>3</td>\n",
       "      <td>female</td>\n",
       "      <td>26.0</td>\n",
       "      <td>0</td>\n",
       "      <td>0</td>\n",
       "      <td>7.9250</td>\n",
       "      <td>S</td>\n",
       "      <td>Third</td>\n",
       "      <td>woman</td>\n",
       "      <td>False</td>\n",
       "      <td>NaN</td>\n",
       "      <td>Southampton</td>\n",
       "      <td>yes</td>\n",
       "      <td>True</td>\n",
       "    </tr>\n",
       "  </tbody>\n",
       "</table>\n",
       "</div>"
      ],
      "text/plain": [
       "   survived  pclass     sex   age  sibsp  parch     fare embarked  class  \\\n",
       "0         0       3    male  22.0      1      0   7.2500        S  Third   \n",
       "1         1       1  female  38.0      1      0  71.2833        C  First   \n",
       "2         1       3  female  26.0      0      0   7.9250        S  Third   \n",
       "\n",
       "     who  adult_male deck  embark_town alive  alone  \n",
       "0    man        True  NaN  Southampton    no  False  \n",
       "1  woman       False    C    Cherbourg   yes  False  \n",
       "2  woman       False  NaN  Southampton   yes   True  "
      ]
     },
     "execution_count": 24,
     "metadata": {},
     "output_type": "execute_result"
    }
   ],
   "source": [
    "titanic.loc[[0,1,2]]"
   ]
  },
  {
   "cell_type": "markdown",
   "metadata": {},
   "source": [
    "We can also select certain columns by specifying column names:"
   ]
  },
  {
   "cell_type": "code",
   "execution_count": 25,
   "metadata": {
    "slideshow": {
     "slide_type": "-"
    }
   },
   "outputs": [
    {
     "data": {
      "text/html": [
       "<div>\n",
       "<style scoped>\n",
       "    .dataframe tbody tr th:only-of-type {\n",
       "        vertical-align: middle;\n",
       "    }\n",
       "\n",
       "    .dataframe tbody tr th {\n",
       "        vertical-align: top;\n",
       "    }\n",
       "\n",
       "    .dataframe thead th {\n",
       "        text-align: right;\n",
       "    }\n",
       "</style>\n",
       "<table border=\"1\" class=\"dataframe\">\n",
       "  <thead>\n",
       "    <tr style=\"text-align: right;\">\n",
       "      <th></th>\n",
       "      <th>survived</th>\n",
       "    </tr>\n",
       "  </thead>\n",
       "  <tbody>\n",
       "    <tr>\n",
       "      <th>0</th>\n",
       "      <td>0</td>\n",
       "    </tr>\n",
       "    <tr>\n",
       "      <th>1</th>\n",
       "      <td>1</td>\n",
       "    </tr>\n",
       "    <tr>\n",
       "      <th>2</th>\n",
       "      <td>1</td>\n",
       "    </tr>\n",
       "  </tbody>\n",
       "</table>\n",
       "</div>"
      ],
      "text/plain": [
       "   survived\n",
       "0         0\n",
       "1         1\n",
       "2         1"
      ]
     },
     "execution_count": 25,
     "metadata": {},
     "output_type": "execute_result"
    }
   ],
   "source": [
    "titanic[['survived']].head(3)"
   ]
  },
  {
   "cell_type": "markdown",
   "metadata": {
    "slideshow": {
     "slide_type": "slide"
    }
   },
   "source": [
    "## Modifying DataFrames\n",
    "*Why do we want to modify DataFrames?*\n",
    "\n",
    "- Because data rarely comes in the form we want it.\n"
   ]
  },
  {
   "cell_type": "markdown",
   "metadata": {
    "slideshow": {
     "slide_type": "slide"
    }
   },
   "source": [
    "## Changing the Index (1:3)\n",
    "*How can we change the index of a DataFrame?*"
   ]
  },
  {
   "cell_type": "code",
   "execution_count": 26,
   "metadata": {},
   "outputs": [
    {
     "data": {
      "text/html": [
       "<div>\n",
       "<style scoped>\n",
       "    .dataframe tbody tr th:only-of-type {\n",
       "        vertical-align: middle;\n",
       "    }\n",
       "\n",
       "    .dataframe tbody tr th {\n",
       "        vertical-align: top;\n",
       "    }\n",
       "\n",
       "    .dataframe thead th {\n",
       "        text-align: right;\n",
       "    }\n",
       "</style>\n",
       "<table border=\"1\" class=\"dataframe\">\n",
       "  <thead>\n",
       "    <tr style=\"text-align: right;\">\n",
       "      <th></th>\n",
       "      <th>a</th>\n",
       "      <th>b</th>\n",
       "    </tr>\n",
       "  </thead>\n",
       "  <tbody>\n",
       "    <tr>\n",
       "      <th>i</th>\n",
       "      <td>1</td>\n",
       "      <td>2</td>\n",
       "    </tr>\n",
       "    <tr>\n",
       "      <th>ii</th>\n",
       "      <td>3</td>\n",
       "      <td>4</td>\n",
       "    </tr>\n",
       "    <tr>\n",
       "      <th>iii</th>\n",
       "      <td>5</td>\n",
       "      <td>6</td>\n",
       "    </tr>\n",
       "  </tbody>\n",
       "</table>\n",
       "</div>"
      ],
      "text/plain": [
       "     a  b\n",
       "i    1  2\n",
       "ii   3  4\n",
       "iii  5  6"
      ]
     },
     "execution_count": 26,
     "metadata": {},
     "output_type": "execute_result"
    }
   ],
   "source": [
    "my_df = pd.DataFrame([[1,2], [3,4], [5,6]], columns = ['a', 'b'], index = ['i', 'ii', 'iii'])\n",
    "my_df"
   ]
  },
  {
   "cell_type": "markdown",
   "metadata": {
    "slideshow": {
     "slide_type": "fragment"
    }
   },
   "source": [
    "We change or set a DataFrame's index using its method `set_index`. Example:"
   ]
  },
  {
   "cell_type": "code",
   "execution_count": 27,
   "metadata": {
    "scrolled": true,
    "slideshow": {
     "slide_type": "-"
    }
   },
   "outputs": [
    {
     "name": "stdout",
     "output_type": "stream",
     "text": [
      "   b\n",
      "a   \n",
      "1  2\n",
      "3  4\n",
      "5  6\n"
     ]
    }
   ],
   "source": [
    "print(my_df.set_index('a'))"
   ]
  },
  {
   "cell_type": "markdown",
   "metadata": {
    "slideshow": {
     "slide_type": "fragment"
    }
   },
   "source": [
    "Clearly, doing so, we also implicitly delete the previous index.\n",
    "\n",
    "Also, notice the level shift in *b* due to this."
   ]
  },
  {
   "cell_type": "code",
   "execution_count": 27,
   "metadata": {},
   "outputs": [
    {
     "data": {
      "text/html": [
       "<div>\n",
       "<style scoped>\n",
       "    .dataframe tbody tr th:only-of-type {\n",
       "        vertical-align: middle;\n",
       "    }\n",
       "\n",
       "    .dataframe tbody tr th {\n",
       "        vertical-align: top;\n",
       "    }\n",
       "\n",
       "    .dataframe thead th {\n",
       "        text-align: right;\n",
       "    }\n",
       "</style>\n",
       "<table border=\"1\" class=\"dataframe\">\n",
       "  <thead>\n",
       "    <tr style=\"text-align: right;\">\n",
       "      <th></th>\n",
       "      <th>a</th>\n",
       "      <th>b</th>\n",
       "    </tr>\n",
       "  </thead>\n",
       "  <tbody>\n",
       "    <tr>\n",
       "      <th>i</th>\n",
       "      <td>1</td>\n",
       "      <td>2</td>\n",
       "    </tr>\n",
       "    <tr>\n",
       "      <th>ii</th>\n",
       "      <td>3</td>\n",
       "      <td>4</td>\n",
       "    </tr>\n",
       "    <tr>\n",
       "      <th>iii</th>\n",
       "      <td>5</td>\n",
       "      <td>6</td>\n",
       "    </tr>\n",
       "  </tbody>\n",
       "</table>\n",
       "</div>"
      ],
      "text/plain": [
       "     a  b\n",
       "i    1  2\n",
       "ii   3  4\n",
       "iii  5  6"
      ]
     },
     "execution_count": 27,
     "metadata": {},
     "output_type": "execute_result"
    }
   ],
   "source": [
    "my_df"
   ]
  },
  {
   "cell_type": "markdown",
   "metadata": {
    "slideshow": {
     "slide_type": "slide"
    }
   },
   "source": [
    "## Changing the Index (2:3)\n",
    "*Is our DataFrame changed? I.e. does it have a new index?*\n",
    "- Modifying DataFrames"
   ]
  },
  {
   "cell_type": "code",
   "execution_count": 28,
   "metadata": {
    "slideshow": {
     "slide_type": "-"
    }
   },
   "outputs": [
    {
     "data": {
      "text/html": [
       "<div>\n",
       "<style scoped>\n",
       "    .dataframe tbody tr th:only-of-type {\n",
       "        vertical-align: middle;\n",
       "    }\n",
       "\n",
       "    .dataframe tbody tr th {\n",
       "        vertical-align: top;\n",
       "    }\n",
       "\n",
       "    .dataframe thead th {\n",
       "        text-align: right;\n",
       "    }\n",
       "</style>\n",
       "<table border=\"1\" class=\"dataframe\">\n",
       "  <thead>\n",
       "    <tr style=\"text-align: right;\">\n",
       "      <th></th>\n",
       "      <th>a</th>\n",
       "      <th>b</th>\n",
       "    </tr>\n",
       "  </thead>\n",
       "  <tbody>\n",
       "    <tr>\n",
       "      <th>i</th>\n",
       "      <td>1</td>\n",
       "      <td>2</td>\n",
       "    </tr>\n",
       "    <tr>\n",
       "      <th>ii</th>\n",
       "      <td>3</td>\n",
       "      <td>4</td>\n",
       "    </tr>\n",
       "    <tr>\n",
       "      <th>iii</th>\n",
       "      <td>5</td>\n",
       "      <td>6</td>\n",
       "    </tr>\n",
       "  </tbody>\n",
       "</table>\n",
       "</div>"
      ],
      "text/plain": [
       "     a  b\n",
       "i    1  2\n",
       "ii   3  4\n",
       "iii  5  6"
      ]
     },
     "execution_count": 28,
     "metadata": {},
     "output_type": "execute_result"
    }
   ],
   "source": [
    "my_df"
   ]
  },
  {
   "cell_type": "code",
   "execution_count": 30,
   "metadata": {},
   "outputs": [
    {
     "data": {
      "text/html": [
       "<div>\n",
       "<style scoped>\n",
       "    .dataframe tbody tr th:only-of-type {\n",
       "        vertical-align: middle;\n",
       "    }\n",
       "\n",
       "    .dataframe tbody tr th {\n",
       "        vertical-align: top;\n",
       "    }\n",
       "\n",
       "    .dataframe thead th {\n",
       "        text-align: right;\n",
       "    }\n",
       "</style>\n",
       "<table border=\"1\" class=\"dataframe\">\n",
       "  <thead>\n",
       "    <tr style=\"text-align: right;\">\n",
       "      <th></th>\n",
       "      <th>b</th>\n",
       "    </tr>\n",
       "    <tr>\n",
       "      <th>a</th>\n",
       "      <th></th>\n",
       "    </tr>\n",
       "  </thead>\n",
       "  <tbody>\n",
       "    <tr>\n",
       "      <th>1</th>\n",
       "      <td>2</td>\n",
       "    </tr>\n",
       "    <tr>\n",
       "      <th>3</th>\n",
       "      <td>4</td>\n",
       "    </tr>\n",
       "    <tr>\n",
       "      <th>5</th>\n",
       "      <td>6</td>\n",
       "    </tr>\n",
       "  </tbody>\n",
       "</table>\n",
       "</div>"
      ],
      "text/plain": [
       "   b\n",
       "a   \n",
       "1  2\n",
       "3  4\n",
       "5  6"
      ]
     },
     "execution_count": 30,
     "metadata": {},
     "output_type": "execute_result"
    }
   ],
   "source": [
    "my_df_a = my_df.set_index('a')\n",
    "my_df_a"
   ]
  },
  {
   "cell_type": "code",
   "execution_count": 31,
   "metadata": {},
   "outputs": [
    {
     "data": {
      "text/html": [
       "<div>\n",
       "<style scoped>\n",
       "    .dataframe tbody tr th:only-of-type {\n",
       "        vertical-align: middle;\n",
       "    }\n",
       "\n",
       "    .dataframe tbody tr th {\n",
       "        vertical-align: top;\n",
       "    }\n",
       "\n",
       "    .dataframe thead th {\n",
       "        text-align: right;\n",
       "    }\n",
       "</style>\n",
       "<table border=\"1\" class=\"dataframe\">\n",
       "  <thead>\n",
       "    <tr style=\"text-align: right;\">\n",
       "      <th></th>\n",
       "      <th>b</th>\n",
       "    </tr>\n",
       "    <tr>\n",
       "      <th>a</th>\n",
       "      <th></th>\n",
       "    </tr>\n",
       "  </thead>\n",
       "  <tbody>\n",
       "    <tr>\n",
       "      <th>1</th>\n",
       "      <td>2</td>\n",
       "    </tr>\n",
       "    <tr>\n",
       "      <th>3</th>\n",
       "      <td>4</td>\n",
       "    </tr>\n",
       "    <tr>\n",
       "      <th>5</th>\n",
       "      <td>6</td>\n",
       "    </tr>\n",
       "  </tbody>\n",
       "</table>\n",
       "</div>"
      ],
      "text/plain": [
       "   b\n",
       "a   \n",
       "1  2\n",
       "3  4\n",
       "5  6"
      ]
     },
     "execution_count": 31,
     "metadata": {},
     "output_type": "execute_result"
    }
   ],
   "source": [
    "my_df_a"
   ]
  },
  {
   "cell_type": "markdown",
   "metadata": {
    "slideshow": {
     "slide_type": "slide"
    }
   },
   "source": [
    "## Changing the index (3:3)\n",
    "\n",
    "Sometimes we wish to remove the index. This is done with the `reset_index` method:"
   ]
  },
  {
   "cell_type": "code",
   "execution_count": 29,
   "metadata": {
    "slideshow": {
     "slide_type": "-"
    }
   },
   "outputs": [
    {
     "name": "stdout",
     "output_type": "stream",
     "text": [
      "   a  b\n",
      "0  1  2\n",
      "1  3  4\n",
      "2  5  6\n",
      "\n",
      "   b\n",
      "0  2\n",
      "1  4\n",
      "2  6\n"
     ]
    }
   ],
   "source": [
    "print(my_df_a.reset_index()) # drop=True\n",
    "print()\n",
    "print(my_df_a.reset_index(drop=True)) # drop=True"
   ]
  },
  {
   "cell_type": "markdown",
   "metadata": {
    "slideshow": {
     "slide_type": "-"
    }
   },
   "source": [
    "By specifying the keyword `drop=True` we delete the old index.\n",
    "\n",
    "*To note:* Indices can have multiple levels, in this case `level` can be specified to delete a specific level."
   ]
  },
  {
   "cell_type": "markdown",
   "metadata": {
    "slideshow": {
     "slide_type": "slide"
    }
   },
   "source": [
    "## Changing the Column Names\n",
    "\n",
    "Column names can simply be changed with `columns`:"
   ]
  },
  {
   "cell_type": "code",
   "execution_count": 30,
   "metadata": {
    "slideshow": {
     "slide_type": "-"
    }
   },
   "outputs": [
    {
     "name": "stdout",
     "output_type": "stream",
     "text": [
      "     a  b\n",
      "i    1  2\n",
      "ii   3  4\n",
      "iii  5  6\n",
      "\n",
      "     A  B\n",
      "i    1  2\n",
      "ii   3  4\n",
      "iii  5  6\n"
     ]
    }
   ],
   "source": [
    "print(my_df)\n",
    "my_df.columns = ['A', 'B']\n",
    "print()\n",
    "print(my_df)"
   ]
  },
  {
   "cell_type": "markdown",
   "metadata": {
    "slideshow": {
     "slide_type": "-"
    }
   },
   "source": [
    "DataFrame's also have the function called `rename`."
   ]
  },
  {
   "cell_type": "code",
   "execution_count": 31,
   "metadata": {
    "slideshow": {
     "slide_type": "-"
    }
   },
   "outputs": [
    {
     "name": "stdout",
     "output_type": "stream",
     "text": [
      "     Aa  B\n",
      "i     1  2\n",
      "ii    3  4\n",
      "iii   5  6\n"
     ]
    }
   ],
   "source": [
    "my_df.rename(columns={'A': 'Aa'}, inplace=True)\n",
    "print(my_df)"
   ]
  },
  {
   "cell_type": "markdown",
   "metadata": {
    "slideshow": {
     "slide_type": "slide"
    }
   },
   "source": [
    "## Changing all Column Values\n",
    "*How can we can update values in a DataFrame?*"
   ]
  },
  {
   "cell_type": "code",
   "execution_count": 32,
   "metadata": {},
   "outputs": [
    {
     "name": "stdout",
     "output_type": "stream",
     "text": [
      "     Aa  B\n",
      "i     1  2\n",
      "ii    3  4\n",
      "iii   5  6\n",
      "\n",
      "     Aa  B\n",
      "i     1  3\n",
      "ii    3  3\n",
      "iii   5  3\n",
      "\n",
      "     Aa   B\n",
      "i     1   2\n",
      "ii    3  17\n",
      "iii   5   0\n"
     ]
    }
   ],
   "source": [
    "print(my_df)\n",
    "\n",
    "# # set uniform value\n",
    "my_df['B'] = 3\n",
    "print()\n",
    "print(my_df)\n",
    "\n",
    "# set different values\n",
    "my_df['B'] = [2,17,0] \n",
    "print()\n",
    "print(my_df)"
   ]
  },
  {
   "cell_type": "markdown",
   "metadata": {
    "slideshow": {
     "slide_type": "slide"
    }
   },
   "source": [
    "## Changing Specific Column Values\n",
    "*How can we can update values in a DataFrame?*"
   ]
  },
  {
   "cell_type": "code",
   "execution_count": 33,
   "metadata": {},
   "outputs": [
    {
     "name": "stdout",
     "output_type": "stream",
     "text": [
      "     Aa   B\n",
      "i     1   2\n",
      "ii    3  17\n",
      "iii   5   0\n",
      "\n",
      "     Aa   B\n",
      "i    10   2\n",
      "ii    3  17\n",
      "iii  10   0\n"
     ]
    }
   ],
   "source": [
    "print(my_df)\n",
    "\n",
    "# loc, iloc\n",
    "my_loc2 = ['i', 'iii']\n",
    "my_df.loc[my_loc2, 'Aa'] = 10\n",
    "\n",
    "print()\n",
    "print(my_df)"
   ]
  },
  {
   "cell_type": "markdown",
   "metadata": {
    "slideshow": {
     "slide_type": "slide"
    }
   },
   "source": [
    "## Sorting Data\n",
    "\n",
    "A DataFrame can be sorted with `sort_values`; this method takes one or more columns to sort by. "
   ]
  },
  {
   "cell_type": "code",
   "execution_count": 34,
   "metadata": {
    "scrolled": true,
    "slideshow": {
     "slide_type": "-"
    }
   },
   "outputs": [
    {
     "name": "stdout",
     "output_type": "stream",
     "text": [
      "     Aa   B\n",
      "ii    3  17\n",
      "i    10   2\n",
      "iii  10   0\n"
     ]
    }
   ],
   "source": [
    "print(my_df.sort_values(by='Aa', ascending=True))"
   ]
  },
  {
   "cell_type": "markdown",
   "metadata": {
    "slideshow": {
     "slide_type": "fragment"
    }
   },
   "source": [
    "Many key word arguments are possible for sort_values, including ascending if for one or more valuable, we want descending values. \n",
    "\n",
    "In addition, sorting by index is also possible with `sort_index`."
   ]
  },
  {
   "cell_type": "code",
   "execution_count": 35,
   "metadata": {
    "scrolled": false,
    "slideshow": {
     "slide_type": "-"
    }
   },
   "outputs": [
    {
     "name": "stdout",
     "output_type": "stream",
     "text": [
      "     Aa   B\n",
      "i    10   2\n",
      "ii    3  17\n",
      "iii  10   0\n"
     ]
    }
   ],
   "source": [
    "print(my_df.sort_index())"
   ]
  },
  {
   "cell_type": "markdown",
   "metadata": {},
   "source": [
    "## DO2021 COHORT"
   ]
  },
  {
   "cell_type": "code",
   "execution_count": 16,
   "metadata": {
    "collapsed": true
   },
   "outputs": [
    {
     "data": {
      "text/html": [
       "<div>\n",
       "<style scoped>\n",
       "    .dataframe tbody tr th:only-of-type {\n",
       "        vertical-align: middle;\n",
       "    }\n",
       "\n",
       "    .dataframe tbody tr th {\n",
       "        vertical-align: top;\n",
       "    }\n",
       "\n",
       "    .dataframe thead th {\n",
       "        text-align: right;\n",
       "    }\n",
       "</style>\n",
       "<table border=\"1\" class=\"dataframe\">\n",
       "  <thead>\n",
       "    <tr style=\"text-align: right;\">\n",
       "      <th></th>\n",
       "      <th>Hvad er dit KU brugernavn?  (Skriv de 3 bogstaver + 3 tal fra din ku mail fx. abc123)</th>\n",
       "      <th>Gruppe</th>\n",
       "      <th>Hvor gammel er du?</th>\n",
       "      <th>Hvilket fagområde er din nuværende uddannelse indenfor?</th>\n",
       "      <th>Hvilket fagområde er din nuværende uddannelse indenfor?  - Andet, skriv venligst:</th>\n",
       "      <th>Er du lige nu indskrevet på bachelor- eller kandidatstudieordning?</th>\n",
       "      <th>Er du lige nu indskrevet på bachelor- eller kandidatstudieordning? - Andet, skriv venligst:</th>\n",
       "      <th>Hvilket postnummer er du vokset op?</th>\n",
       "      <th>I hvilken region er du vokset op?</th>\n",
       "      <th>I hvilken region er du vokset op? - Udlandet (uddyb venligst):</th>\n",
       "      <th>...</th>\n",
       "      <th>Pizza eller Poke Bowl?</th>\n",
       "      <th>Hvor vil du helst arbejde når du er færdiguddannet?</th>\n",
       "      <th>Hvad er din yndlingsmusik?</th>\n",
       "      <th>Navn</th>\n",
       "      <th>E-mail</th>\n",
       "      <th>Samlet status - Ny</th>\n",
       "      <th>Samlet status - Distribueret</th>\n",
       "      <th>Samlet status - Nogen svar</th>\n",
       "      <th>Samlet status - Gennemført</th>\n",
       "      <th>Samlet status - Frafaldet</th>\n",
       "    </tr>\n",
       "  </thead>\n",
       "  <tbody>\n",
       "    <tr>\n",
       "      <th>0</th>\n",
       "      <td>vjq698</td>\n",
       "      <td>1.0</td>\n",
       "      <td>26.0</td>\n",
       "      <td>Andet, skriv venligst:</td>\n",
       "      <td>samfundsfag</td>\n",
       "      <td>Kandidatstudieordning</td>\n",
       "      <td>NaN</td>\n",
       "      <td>2830.0</td>\n",
       "      <td>Hovedstaden</td>\n",
       "      <td>NaN</td>\n",
       "      <td>...</td>\n",
       "      <td>Pizza</td>\n",
       "      <td>Privat</td>\n",
       "      <td>Nik &amp; Jay</td>\n",
       "      <td>Michael Jørgen Kjær</td>\n",
       "      <td>vjq698@alumni.ku.dk</td>\n",
       "      <td>0</td>\n",
       "      <td>0</td>\n",
       "      <td>0</td>\n",
       "      <td>1</td>\n",
       "      <td>0</td>\n",
       "    </tr>\n",
       "    <tr>\n",
       "      <th>1</th>\n",
       "      <td>gzf378</td>\n",
       "      <td>1.0</td>\n",
       "      <td>24.0</td>\n",
       "      <td>Statskundskab</td>\n",
       "      <td>NaN</td>\n",
       "      <td>Kandidatstudieordning</td>\n",
       "      <td>NaN</td>\n",
       "      <td>3480.0</td>\n",
       "      <td>Hovedstaden</td>\n",
       "      <td>NaN</td>\n",
       "      <td>...</td>\n",
       "      <td>Pizza</td>\n",
       "      <td>Offentligt</td>\n",
       "      <td>Nik &amp; Jay</td>\n",
       "      <td>Nanna Holze Brandt</td>\n",
       "      <td>gzf378@alumni.ku.dk</td>\n",
       "      <td>0</td>\n",
       "      <td>0</td>\n",
       "      <td>0</td>\n",
       "      <td>1</td>\n",
       "      <td>0</td>\n",
       "    </tr>\n",
       "    <tr>\n",
       "      <th>2</th>\n",
       "      <td>FTB283</td>\n",
       "      <td>1.0</td>\n",
       "      <td>24.0</td>\n",
       "      <td>Statskundskab</td>\n",
       "      <td>NaN</td>\n",
       "      <td>Kandidatstudieordning</td>\n",
       "      <td>NaN</td>\n",
       "      <td>7000.0</td>\n",
       "      <td>Syddanmark</td>\n",
       "      <td>NaN</td>\n",
       "      <td>...</td>\n",
       "      <td>Pizza</td>\n",
       "      <td>Privat</td>\n",
       "      <td>Nik &amp; Jay</td>\n",
       "      <td>Matthias Niels Runge Madsen</td>\n",
       "      <td>ftb283@alumni.ku.dk</td>\n",
       "      <td>0</td>\n",
       "      <td>0</td>\n",
       "      <td>0</td>\n",
       "      <td>1</td>\n",
       "      <td>0</td>\n",
       "    </tr>\n",
       "    <tr>\n",
       "      <th>3</th>\n",
       "      <td>NaN</td>\n",
       "      <td>NaN</td>\n",
       "      <td>NaN</td>\n",
       "      <td>NaN</td>\n",
       "      <td>NaN</td>\n",
       "      <td>NaN</td>\n",
       "      <td>NaN</td>\n",
       "      <td>NaN</td>\n",
       "      <td>NaN</td>\n",
       "      <td>NaN</td>\n",
       "      <td>...</td>\n",
       "      <td>NaN</td>\n",
       "      <td>NaN</td>\n",
       "      <td>NaN</td>\n",
       "      <td>Kathrine Edwards</td>\n",
       "      <td>kvf505@alumni.ku.dk</td>\n",
       "      <td>0</td>\n",
       "      <td>1</td>\n",
       "      <td>0</td>\n",
       "      <td>0</td>\n",
       "      <td>0</td>\n",
       "    </tr>\n",
       "    <tr>\n",
       "      <th>4</th>\n",
       "      <td>zcn409</td>\n",
       "      <td>2.0</td>\n",
       "      <td>26.0</td>\n",
       "      <td>Andet, skriv venligst:</td>\n",
       "      <td>Sikkerheds- og risikoledelse</td>\n",
       "      <td>Kandidatstudieordning</td>\n",
       "      <td>NaN</td>\n",
       "      <td>90100.0</td>\n",
       "      <td>Udlandet (uddyb venligst):</td>\n",
       "      <td>Finland</td>\n",
       "      <td>...</td>\n",
       "      <td>Pizza</td>\n",
       "      <td>Privat</td>\n",
       "      <td>Nik &amp; Jay</td>\n",
       "      <td>Laura Henna Sinikka Sunnari</td>\n",
       "      <td>zcn409@alumni.ku.dk</td>\n",
       "      <td>0</td>\n",
       "      <td>0</td>\n",
       "      <td>0</td>\n",
       "      <td>1</td>\n",
       "      <td>0</td>\n",
       "    </tr>\n",
       "    <tr>\n",
       "      <th>...</th>\n",
       "      <td>...</td>\n",
       "      <td>...</td>\n",
       "      <td>...</td>\n",
       "      <td>...</td>\n",
       "      <td>...</td>\n",
       "      <td>...</td>\n",
       "      <td>...</td>\n",
       "      <td>...</td>\n",
       "      <td>...</td>\n",
       "      <td>...</td>\n",
       "      <td>...</td>\n",
       "      <td>...</td>\n",
       "      <td>...</td>\n",
       "      <td>...</td>\n",
       "      <td>...</td>\n",
       "      <td>...</td>\n",
       "      <td>...</td>\n",
       "      <td>...</td>\n",
       "      <td>...</td>\n",
       "      <td>...</td>\n",
       "      <td>...</td>\n",
       "    </tr>\n",
       "    <tr>\n",
       "      <th>56</th>\n",
       "      <td>sdv351</td>\n",
       "      <td>18.0</td>\n",
       "      <td>22.0</td>\n",
       "      <td>Statskundskab</td>\n",
       "      <td>NaN</td>\n",
       "      <td>Bachelorstudieordning</td>\n",
       "      <td>NaN</td>\n",
       "      <td>2860.0</td>\n",
       "      <td>Hovedstaden</td>\n",
       "      <td>NaN</td>\n",
       "      <td>...</td>\n",
       "      <td>Pizza</td>\n",
       "      <td>Privat</td>\n",
       "      <td>Nik &amp; Jay</td>\n",
       "      <td>Emil Juel Stephens</td>\n",
       "      <td>sdv351@alumni.ku.dk</td>\n",
       "      <td>0</td>\n",
       "      <td>0</td>\n",
       "      <td>0</td>\n",
       "      <td>1</td>\n",
       "      <td>0</td>\n",
       "    </tr>\n",
       "    <tr>\n",
       "      <th>57</th>\n",
       "      <td>lmg642</td>\n",
       "      <td>19.0</td>\n",
       "      <td>40.0</td>\n",
       "      <td>Antropologi</td>\n",
       "      <td>NaN</td>\n",
       "      <td>Bachelorstudieordning</td>\n",
       "      <td>NaN</td>\n",
       "      <td>8600.0</td>\n",
       "      <td>Midtjylland</td>\n",
       "      <td>NaN</td>\n",
       "      <td>...</td>\n",
       "      <td>Poke Bowl</td>\n",
       "      <td>Privat</td>\n",
       "      <td>Nik &amp; Jay</td>\n",
       "      <td>lmg642 lmg642</td>\n",
       "      <td>lmg642@alumni.ku.dk</td>\n",
       "      <td>0</td>\n",
       "      <td>0</td>\n",
       "      <td>0</td>\n",
       "      <td>1</td>\n",
       "      <td>0</td>\n",
       "    </tr>\n",
       "    <tr>\n",
       "      <th>58</th>\n",
       "      <td>sjg501</td>\n",
       "      <td>19.0</td>\n",
       "      <td>23.0</td>\n",
       "      <td>Statskundskab</td>\n",
       "      <td>NaN</td>\n",
       "      <td>Bachelorstudieordning</td>\n",
       "      <td>NaN</td>\n",
       "      <td>4230.0</td>\n",
       "      <td>Sjælland</td>\n",
       "      <td>NaN</td>\n",
       "      <td>...</td>\n",
       "      <td>Pizza</td>\n",
       "      <td>Privat</td>\n",
       "      <td>Nik &amp; Jay</td>\n",
       "      <td>Oskar Holm Klæbel</td>\n",
       "      <td>sjg501@alumni.ku.dk</td>\n",
       "      <td>0</td>\n",
       "      <td>0</td>\n",
       "      <td>0</td>\n",
       "      <td>1</td>\n",
       "      <td>0</td>\n",
       "    </tr>\n",
       "    <tr>\n",
       "      <th>59</th>\n",
       "      <td>kmp116</td>\n",
       "      <td>20.0</td>\n",
       "      <td>22.0</td>\n",
       "      <td>Statskundskab</td>\n",
       "      <td>NaN</td>\n",
       "      <td>Bachelorstudieordning</td>\n",
       "      <td>NaN</td>\n",
       "      <td>4500.0</td>\n",
       "      <td>Sjælland</td>\n",
       "      <td>NaN</td>\n",
       "      <td>...</td>\n",
       "      <td>Pizza</td>\n",
       "      <td>Offentligt</td>\n",
       "      <td>Nik &amp; Jay</td>\n",
       "      <td>Albert Neve Alsbjerg</td>\n",
       "      <td>kmp116@alumni.ku.dk</td>\n",
       "      <td>0</td>\n",
       "      <td>0</td>\n",
       "      <td>0</td>\n",
       "      <td>1</td>\n",
       "      <td>0</td>\n",
       "    </tr>\n",
       "    <tr>\n",
       "      <th>60</th>\n",
       "      <td>hkj815</td>\n",
       "      <td>20.0</td>\n",
       "      <td>23.0</td>\n",
       "      <td>Statskundskab</td>\n",
       "      <td>NaN</td>\n",
       "      <td>Bachelorstudieordning</td>\n",
       "      <td>NaN</td>\n",
       "      <td>1370.0</td>\n",
       "      <td>Hovedstaden</td>\n",
       "      <td>NaN</td>\n",
       "      <td>...</td>\n",
       "      <td>Poke Bowl</td>\n",
       "      <td>Offentligt</td>\n",
       "      <td>Nik &amp; Jay</td>\n",
       "      <td>Max Pontoppidan</td>\n",
       "      <td>hkj815@alumni.ku.dk</td>\n",
       "      <td>0</td>\n",
       "      <td>0</td>\n",
       "      <td>0</td>\n",
       "      <td>1</td>\n",
       "      <td>0</td>\n",
       "    </tr>\n",
       "  </tbody>\n",
       "</table>\n",
       "<p>61 rows × 22 columns</p>\n",
       "</div>"
      ],
      "text/plain": [
       "   Hvad er dit KU brugernavn?  (Skriv de 3 bogstaver + 3 tal fra din ku mail fx. abc123)  \\\n",
       "0                                              vjq698                                      \n",
       "1                                              gzf378                                      \n",
       "2                                              FTB283                                      \n",
       "3                                                 NaN                                      \n",
       "4                                              zcn409                                      \n",
       "..                                                ...                                      \n",
       "56                                             sdv351                                      \n",
       "57                                             lmg642                                      \n",
       "58                                             sjg501                                      \n",
       "59                                             kmp116                                      \n",
       "60                                             hkj815                                      \n",
       "\n",
       "    Gruppe  Hvor gammel er du?  \\\n",
       "0      1.0                26.0   \n",
       "1      1.0                24.0   \n",
       "2      1.0                24.0   \n",
       "3      NaN                 NaN   \n",
       "4      2.0                26.0   \n",
       "..     ...                 ...   \n",
       "56    18.0                22.0   \n",
       "57    19.0                40.0   \n",
       "58    19.0                23.0   \n",
       "59    20.0                22.0   \n",
       "60    20.0                23.0   \n",
       "\n",
       "   Hvilket fagområde er din nuværende uddannelse indenfor?   \\\n",
       "0                              Andet, skriv venligst:         \n",
       "1                                       Statskundskab         \n",
       "2                                       Statskundskab         \n",
       "3                                                 NaN         \n",
       "4                              Andet, skriv venligst:         \n",
       "..                                                ...         \n",
       "56                                      Statskundskab         \n",
       "57                                        Antropologi         \n",
       "58                                      Statskundskab         \n",
       "59                                      Statskundskab         \n",
       "60                                      Statskundskab         \n",
       "\n",
       "   Hvilket fagområde er din nuværende uddannelse indenfor?  - Andet, skriv venligst:  \\\n",
       "0                                         samfundsfag                                  \n",
       "1                                                 NaN                                  \n",
       "2                                                 NaN                                  \n",
       "3                                                 NaN                                  \n",
       "4                        Sikkerheds- og risikoledelse                                  \n",
       "..                                                ...                                  \n",
       "56                                                NaN                                  \n",
       "57                                                NaN                                  \n",
       "58                                                NaN                                  \n",
       "59                                                NaN                                  \n",
       "60                                                NaN                                  \n",
       "\n",
       "   Er du lige nu indskrevet på bachelor- eller kandidatstudieordning?  \\\n",
       "0                               Kandidatstudieordning                   \n",
       "1                               Kandidatstudieordning                   \n",
       "2                               Kandidatstudieordning                   \n",
       "3                                                 NaN                   \n",
       "4                               Kandidatstudieordning                   \n",
       "..                                                ...                   \n",
       "56                              Bachelorstudieordning                   \n",
       "57                              Bachelorstudieordning                   \n",
       "58                              Bachelorstudieordning                   \n",
       "59                              Bachelorstudieordning                   \n",
       "60                              Bachelorstudieordning                   \n",
       "\n",
       "    Er du lige nu indskrevet på bachelor- eller kandidatstudieordning? - Andet, skriv venligst:  \\\n",
       "0                                                 NaN                                             \n",
       "1                                                 NaN                                             \n",
       "2                                                 NaN                                             \n",
       "3                                                 NaN                                             \n",
       "4                                                 NaN                                             \n",
       "..                                                ...                                             \n",
       "56                                                NaN                                             \n",
       "57                                                NaN                                             \n",
       "58                                                NaN                                             \n",
       "59                                                NaN                                             \n",
       "60                                                NaN                                             \n",
       "\n",
       "    Hvilket postnummer er du vokset op? I hvilken region er du vokset op?  \\\n",
       "0                                2830.0                       Hovedstaden   \n",
       "1                                3480.0                       Hovedstaden   \n",
       "2                                7000.0                        Syddanmark   \n",
       "3                                   NaN                               NaN   \n",
       "4                               90100.0        Udlandet (uddyb venligst):   \n",
       "..                                  ...                               ...   \n",
       "56                               2860.0                       Hovedstaden   \n",
       "57                               8600.0                       Midtjylland   \n",
       "58                               4230.0                          Sjælland   \n",
       "59                               4500.0                          Sjælland   \n",
       "60                               1370.0                       Hovedstaden   \n",
       "\n",
       "   I hvilken region er du vokset op? - Udlandet (uddyb venligst):  ...  \\\n",
       "0                                                 NaN              ...   \n",
       "1                                                 NaN              ...   \n",
       "2                                                 NaN              ...   \n",
       "3                                                 NaN              ...   \n",
       "4                                             Finland              ...   \n",
       "..                                                ...              ...   \n",
       "56                                                NaN              ...   \n",
       "57                                                NaN              ...   \n",
       "58                                                NaN              ...   \n",
       "59                                                NaN              ...   \n",
       "60                                                NaN              ...   \n",
       "\n",
       "   Pizza eller Poke Bowl? Hvor vil du helst arbejde når du er færdiguddannet?  \\\n",
       "0                   Pizza                                             Privat    \n",
       "1                   Pizza                                         Offentligt    \n",
       "2                   Pizza                                             Privat    \n",
       "3                     NaN                                                NaN    \n",
       "4                   Pizza                                             Privat    \n",
       "..                    ...                                                ...    \n",
       "56                  Pizza                                             Privat    \n",
       "57              Poke Bowl                                             Privat    \n",
       "58                  Pizza                                             Privat    \n",
       "59                  Pizza                                         Offentligt    \n",
       "60              Poke Bowl                                         Offentligt    \n",
       "\n",
       "   Hvad er din yndlingsmusik?                         Navn  \\\n",
       "0                   Nik & Jay          Michael Jørgen Kjær   \n",
       "1                   Nik & Jay           Nanna Holze Brandt   \n",
       "2                   Nik & Jay  Matthias Niels Runge Madsen   \n",
       "3                         NaN             Kathrine Edwards   \n",
       "4                   Nik & Jay  Laura Henna Sinikka Sunnari   \n",
       "..                        ...                          ...   \n",
       "56                  Nik & Jay           Emil Juel Stephens   \n",
       "57                  Nik & Jay                lmg642 lmg642   \n",
       "58                  Nik & Jay            Oskar Holm Klæbel   \n",
       "59                  Nik & Jay         Albert Neve Alsbjerg   \n",
       "60                  Nik & Jay              Max Pontoppidan   \n",
       "\n",
       "                 E-mail Samlet status - Ny Samlet status - Distribueret  \\\n",
       "0   vjq698@alumni.ku.dk                  0                            0   \n",
       "1   gzf378@alumni.ku.dk                  0                            0   \n",
       "2   ftb283@alumni.ku.dk                  0                            0   \n",
       "3   kvf505@alumni.ku.dk                  0                            1   \n",
       "4   zcn409@alumni.ku.dk                  0                            0   \n",
       "..                  ...                ...                          ...   \n",
       "56  sdv351@alumni.ku.dk                  0                            0   \n",
       "57  lmg642@alumni.ku.dk                  0                            0   \n",
       "58  sjg501@alumni.ku.dk                  0                            0   \n",
       "59  kmp116@alumni.ku.dk                  0                            0   \n",
       "60  hkj815@alumni.ku.dk                  0                            0   \n",
       "\n",
       "    Samlet status - Nogen svar  Samlet status - Gennemført  \\\n",
       "0                            0                           1   \n",
       "1                            0                           1   \n",
       "2                            0                           1   \n",
       "3                            0                           0   \n",
       "4                            0                           1   \n",
       "..                         ...                         ...   \n",
       "56                           0                           1   \n",
       "57                           0                           1   \n",
       "58                           0                           1   \n",
       "59                           0                           1   \n",
       "60                           0                           1   \n",
       "\n",
       "    Samlet status - Frafaldet  \n",
       "0                           0  \n",
       "1                           0  \n",
       "2                           0  \n",
       "3                           0  \n",
       "4                           0  \n",
       "..                        ...  \n",
       "56                          0  \n",
       "57                          0  \n",
       "58                          0  \n",
       "59                          0  \n",
       "60                          0  \n",
       "\n",
       "[61 rows x 22 columns]"
      ]
     },
     "execution_count": 16,
     "metadata": {},
     "output_type": "execute_result"
    }
   ],
   "source": [
    "import pandas as pd\n",
    "\n",
    "df = pd.read_excel ('data.xlsx', sheet_name='Complete')\n",
    "df"
   ]
  },
  {
   "cell_type": "code",
   "execution_count": 23,
   "metadata": {},
   "outputs": [
    {
     "data": {
      "text/plain": [
       "1    57\n",
       "0     4\n",
       "Name: Samlet status - Gennemført, dtype: int64"
      ]
     },
     "execution_count": 23,
     "metadata": {},
     "output_type": "execute_result"
    }
   ],
   "source": [
    "# Hvor mange har svaret på survey?\n",
    "df['Samlet status - Gennemført'].value_counts()"
   ]
  },
  {
   "cell_type": "code",
   "execution_count": 24,
   "metadata": {},
   "outputs": [
    {
     "data": {
      "text/plain": [
       "3     kvf505@alumni.ku.dk\n",
       "8            mnk253@ku.dk\n",
       "20    bnr433@alumni.ku.dk\n",
       "21    hdz370@alumni.ku.dk\n",
       "Name: E-mail, dtype: object"
      ]
     },
     "execution_count": 24,
     "metadata": {},
     "output_type": "execute_result"
    }
   ],
   "source": [
    "# Hvem har ikke svaret?\n",
    "df[df['Samlet status - Gennemført']==0]['E-mail']"
   ]
  },
  {
   "cell_type": "code",
   "execution_count": 25,
   "metadata": {},
   "outputs": [
    {
     "data": {
      "text/plain": [
       "Pizza        41\n",
       "Poke Bowl    16\n",
       "Name: Pizza eller Poke Bowl?, dtype: int64"
      ]
     },
     "execution_count": 25,
     "metadata": {},
     "output_type": "execute_result"
    }
   ],
   "source": [
    "# Folk elsker pizza?\n",
    "df['Pizza eller Poke Bowl?'].value_counts()"
   ]
  },
  {
   "cell_type": "code",
   "execution_count": null,
   "metadata": {},
   "outputs": [],
   "source": [
    "# Hvad er MSc vs BSc fodelingen i klassen?\n",
    "df['Er du lige nu indskrevet på bachelor- eller kandidatstudieordning?'].value_counts()"
   ]
  },
  {
   "cell_type": "code",
   "execution_count": null,
   "metadata": {},
   "outputs": [],
   "source": [
    "To be contiued..."
   ]
  },
  {
   "cell_type": "markdown",
   "metadata": {},
   "source": [
    "## Assignment 0\n",
    "\n",
    "- Fundamentals of Python:\n",
    "    - Data types: numeric, string and boolean\n",
    "    - Operators: numerical and logical\n",
    "    - Sequential containers (and a tiny bit on the non-sequential)\n",
    "    \n",
    "    \n",
    "- Building blocks of code:\n",
    "    - If-then syntax\n",
    "    - Loops: for and while\n",
    "    - Reuseable code: Functions, classes and modules\n",
    "\n",
    "\n",
    "- Data Structuring in Pandas\n",
    "    - Constructing a pandas Series/DataFrame\n",
    "    - Reading csv_files\n",
    "    - Naming columns and rows\n",
    "    - Selecting columns and rows\n",
    "    - Numerical operations\n",
    "    - Sorting data"
   ]
  },
  {
   "cell_type": "markdown",
   "metadata": {
    "slideshow": {
     "slide_type": "fragment"
    }
   },
   "source": [
    "## Associated Readings\n",
    "\n",
    "PDA, section 5.3: Descriptive statistics and numerical methods\n",
    "\n",
    "PDA, chapter 7:\n",
    "- Handling missing data\n",
    "- Data transformations (duplicates, dummies, binning, etc.)\n",
    "- String manipulations\n",
    "\n",
    "PDA, sections 11.1-11.2:\n",
    "- Dates and time in Python\n",
    "- Working with time series in pandas (time as index)\n",
    "\n",
    "PDA, sections 12.1, 12.3:\n",
    "- Working with categorical data in pandas\n",
    "- Method chaining\n",
    "\n",
    "PML, chapter 4, section 'Handling categorical data':\n",
    "- Encoding class labels with `LabelEncoder`\n",
    "- One-hot encoding"
   ]
  },
  {
   "cell_type": "markdown",
   "metadata": {},
   "source": [
    "## Group Exercises\n",
    "Exercises where you can practice your data wrangling skills!  \n",
    "Will be uploaded after the weekly lecture."
   ]
  },
  {
   "cell_type": "code",
   "execution_count": null,
   "metadata": {},
   "outputs": [],
   "source": []
  }
 ],
 "metadata": {
  "celltoolbar": "Tags",
  "kernelspec": {
   "display_name": "Python 3",
   "language": "python",
   "name": "python3"
  },
  "language_info": {
   "codemirror_mode": {
    "name": "ipython",
    "version": 3
   },
   "file_extension": ".py",
   "mimetype": "text/x-python",
   "name": "python",
   "nbconvert_exporter": "python",
   "pygments_lexer": "ipython3",
   "version": "3.7.10"
  }
 },
 "nbformat": 4,
 "nbformat_minor": 4
}
